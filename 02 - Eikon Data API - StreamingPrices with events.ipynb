{
 "cells": [
  {
   "cell_type": "markdown",
   "metadata": {},
   "source": [
    "# Eikon Data API - How to use StreamingPrices with events\n",
    "\n",
    "The following example demonstrates how to retrieve level 1 streaming data (such as trades and quotes) from Eikon or the Refinitiv Workspace. The example will show how to define a StreamingPrices object with registered event handlers so that your application is notified when new data is coming in.\n",
    "\n",
    "Using StreamingPrices that way allows your application to be updated in real-time when data changes on the market. With this event-driven mode, your application can still benefit from the StreamingPrices data cache and use the get_snapshot function to pull out real-time snapshots as Pandas DataFrames."
   ]
  },
  {
   "cell_type": "markdown",
   "metadata": {},
   "source": [
    "## About events"
   ]
  },
  {
   "cell_type": "markdown",
   "metadata": {},
   "source": [
    "\n",
    "Using a StreamingPrices object with events requires you to define event handlers that are called by a background execution thread when new events are received for the instruments you requested. There are 4 different types of event handlers you can optionnaly define depending on the type to events your are interrested in.  \n",
    "\n",
    "### The 4 event types and their related event handlers:\n",
    " - **Refresh events:** Refresh events happen when all fields of one the requested instruments are received. This complete list of fields is sometimes called the 'image' of the instrument. This image that comes with Refresh messages can be later updated by subsequent Update events. When several Refresh events are received for the same instrument, the fields transported by the latest Refresh are considered as the new image. Fields received in previous Refresh events or Update events must be discarded. StreamingPrices objects automatically manage this logic for their internal cache, meaning that when you call get_snapshot you always get the latest and relevant field values for the requested instruments. \n",
    " \n",
    " Refresh event handlers take 3 parameters: \n",
    "  - The StreamingPrices object that received the event\n",
    "  - The name of the concerned instrument\n",
    "  - The fields and values of the Image\n",
    " \n",
    " \n",
    " - **Update events:** Update events are received when fields of a requested instrument change. Update events only contain the fields and values that changed. When the application receives an Update it must update its internal representation of the instrument (if any) accordingly. StreamingPrices objects automatically manage this logic for their internal cache, meaning that when you call get_snapshot you always get the latest values of the requested instruments. \n",
    " \n",
    " Update event handlers take 3 parameters \n",
    "  - The StreamingPrices object that received the event\n",
    "  - The name of the concerned instrument\n",
    "  - The updated fields with their new values\n",
    " \n",
    " \n",
    " - **Status events:** Status events are received when the status of one of the requested instruments changes.\n",
    " \n",
    " Status event handlers take 3 parameters \n",
    "  - The StreamingPrices object that received the event\n",
    "  - The name of the concerned instrument\n",
    "  - The new status of the instrument\n",
    " \n",
    " \n",
    " - **Complete events:** A Complete event is received once all the requested instruments received either a Refresh or a Status event. The Complete event indicates that the StreamingPrices object is complete and that it's internal cache contains the full data set (instruments and fields) that were requested.     \n",
    "\n",
    " Complete event handlers take one parameter\n",
    "  - The StreamingPrices object that is complete\n",
    " \n",
    "**Side note:** As Refresh events and Update events use handlers with the same signature, the same handler can be used for these 2 event types if you do not need to distinguish them \n",
    " \n",
    "### Typical events flow\n",
    "\n",
    "As an example, if you use a StreamingPrices object with event for the following instruments and fields: \n",
    " - Instruments: 'CAD=','GBP=', 'JPY=', 'JUNK'\n",
    " - Fields: 'CF_BID','CF_ASK','OPEN_PRC', 'CF_HIGH','CF_LOW', 'CF_CLOSE'\n",
    "\n",
    "You may receive a flow of events like this one:\n",
    " 1. **Refresh** event for GBP=\n",
    " 1. **Refresh** event for CAD=\n",
    " 1. **Status** event for JUNK\n",
    " 1. **Refresh** event for JPY=\n",
    " 1. **Complete** event => Indicating that data (or status) has been received for all requested instruments\n",
    " 1. **Update** event for JPY=\n",
    " 1. **Update** event for CAD=\n",
    " 1. **Refresh** event for CAD=\n",
    " 1. **Update** event for GBP=\n",
    " 1. **Update** event for CAD=\n",
    " 1. **Update** event for JPY=\n",
    " 1. ...\n",
    "\n",
    "  \n"
   ]
  },
  {
   "cell_type": "markdown",
   "metadata": {},
   "source": [
    "## Imports\n",
    "\n",
    "Imports the 'eikon' library and other usefull libraries needed by this notebook"
   ]
  },
  {
   "cell_type": "code",
   "execution_count": 9,
   "metadata": {},
   "outputs": [
    {
     "name": "stdout",
     "output_type": "stream",
     "text": [
      "13:08:15.086641 - Update received for JPY= : {'CF_BID': 108.68, 'CF_ASK': 108.69}\n",
      "13:08:15.286661 - Update received for GBP= : {'CF_BID': 1.2938, 'CF_ASK': 1.2944}\n"
     ]
    }
   ],
   "source": [
    "import eikon as ek\n",
    "import datetime"
   ]
  },
  {
   "cell_type": "markdown",
   "metadata": {},
   "source": [
    "## Set App Key\n",
    "Set the AppKey of this application and connect to Eikon."
   ]
  },
  {
   "cell_type": "code",
   "execution_count": 10,
   "metadata": {},
   "outputs": [],
   "source": [
    "ek.set_app_key('8e5a3ec37ebc4177ba51bd9345776656221b031c')"
   ]
  },
  {
   "cell_type": "markdown",
   "metadata": {},
   "source": [
    "## Define callbacks to capture incoming events"
   ]
  },
  {
   "cell_type": "markdown",
   "metadata": {},
   "source": [
    "The following function will be used to capture Refresh events. It displays the name of the refreshed instrument and its full image (complete list of requested fields)."
   ]
  },
  {
   "cell_type": "code",
   "execution_count": 11,
   "metadata": {},
   "outputs": [],
   "source": [
    "def display_refreshed_fields(streaming_price, instrument_name, fields):\n",
    "    current_time = datetime.datetime.now().time()\n",
    "    print(current_time, \"- Refresh received for\", instrument_name, \":\", fields)    "
   ]
  },
  {
   "cell_type": "markdown",
   "metadata": {},
   "source": [
    "The following function will be used to capture Update events. It displays the name of the updated instrument and the updated fields."
   ]
  },
  {
   "cell_type": "code",
   "execution_count": 12,
   "metadata": {},
   "outputs": [],
   "source": [
    "def display_updated_fields(streaming_price, instrument_name, fields):\n",
    "    current_time = datetime.datetime.now().time()\n",
    "    print(current_time, \"- Update received for\", instrument_name, \":\", fields)    "
   ]
  },
  {
   "cell_type": "markdown",
   "metadata": {},
   "source": [
    "The following function will be used to capture Status events. It displays the name of the instrument and the received status."
   ]
  },
  {
   "cell_type": "code",
   "execution_count": 13,
   "metadata": {},
   "outputs": [],
   "source": [
    "def display_status(streaming_price, instrument_name, status):\n",
    "    current_time = datetime.datetime.now().time()\n",
    "    print(current_time, \"- Status received for\", instrument_name, \":\", status)    "
   ]
  },
  {
   "cell_type": "markdown",
   "metadata": {},
   "source": [
    "The following function will be used to capture Complete events. It calls get_snapshot to pull out the memory cache of the StreamingPrice as a Pandas DataFrame and displays it. As a result, the latest values of all requested fields and instruments are displayed in a table. "
   ]
  },
  {
   "cell_type": "code",
   "execution_count": 14,
   "metadata": {},
   "outputs": [],
   "source": [
    "def display_complete_snapshot(streaming_prices):\n",
    "    current_time = datetime.datetime.now().time()\n",
    "    print(current_time, \"- StreamingPrice is complete. Full snapshot:\")\n",
    "    display(streaming_prices.get_snapshot())"
   ]
  },
  {
   "cell_type": "markdown",
   "metadata": {},
   "source": [
    "## Create StreamingPrices and register event callbacks"
   ]
  },
  {
   "cell_type": "code",
   "execution_count": 15,
   "metadata": {},
   "outputs": [],
   "source": [
    "streaming_prices = ek.StreamingPrices(\n",
    "    instruments = ['EUR=','GBP=','JPY=', 'CAD='], \n",
    "    fields   = ['SALTIM', 'CF_BID','CF_ASK','OPEN_PRC', 'CF_HIGH','CF_LOW', 'CF_CLOSE'],\n",
    "    on_refresh = lambda streaming_price, instrument_name, fields : \n",
    "        display_refreshed_fields(streaming_price, instrument_name, fields),\n",
    "    on_update = lambda streaming_price, instrument_name, fields : \n",
    "        display_updated_fields(streaming_price, instrument_name, fields),\n",
    "    on_status = lambda streaming_price, instrument_name, status : \n",
    "        display_status(streaming_price, instrument_name, status),\n",
    "    on_complete = lambda streaming_price : \n",
    "        display_complete_snapshot(streaming_price)\n",
    ")"
   ]
  },
  {
   "cell_type": "markdown",
   "metadata": {},
   "source": [
    "## Open StreamingPrices and wait for events"
   ]
  },
  {
   "cell_type": "code",
   "execution_count": 20,
   "metadata": {},
   "outputs": [
    {
     "name": "stdout",
     "output_type": "stream",
     "text": [
      "13:08:43.003433 - Status received for CAD= : {'status': <StreamState.Open: 3>, 'code': 'Open', 'message': 'All is well'}\n",
      "13:08:43.004433 - Refresh received for CAD= : {'CF_BID': 1.3207, 'CF_ASK': 1.3208, 'OPEN_PRC': 1.3203, 'CF_HIGH': 1.3216, 'CF_LOW': 1.3195, 'CF_CLOSE': 1.3206}\n",
      "13:08:43.004433 - Status received for GBP= : {'status': <StreamState.Open: 3>, 'code': 'Open', 'message': 'All is well'}\n",
      "13:08:43.004433 - Refresh received for GBP= : {'CF_BID': 1.2939, 'CF_ASK': 1.2941, 'OPEN_PRC': 1.2952, 'CF_HIGH': 1.2969, 'CF_LOW': 1.2927, 'CF_CLOSE': 1.2952}\n",
      "13:08:43.004433 - Status received for JPY= : {'status': <StreamState.Open: 3>, 'code': 'Open', 'message': 'All is well'}\n",
      "13:08:43.004433 - Refresh received for JPY= : {'CF_BID': 108.68, 'CF_ASK': 108.71, 'OPEN_PRC': 108.66, 'CF_HIGH': 108.84, 'CF_LOW': 108.47, 'CF_CLOSE': 108.66}\n",
      "13:08:43.004433 - Status received for EUR= : {'status': <StreamState.Open: 3>, 'code': 'Open', 'message': 'All is well'}\n",
      "13:08:43.004433 - Refresh received for EUR= : {'CF_BID': 1.1078, 'CF_ASK': 1.108, 'OPEN_PRC': 1.107, 'CF_HIGH': 1.1082, 'CF_LOW': 1.1063, 'CF_CLOSE': 1.107}\n",
      "13:08:43.004433 - StreamingPrice is complete. Full snapshot:\n"
     ]
    },
    {
     "data": {
      "text/html": [
       "<div>\n",
       "<style scoped>\n",
       "    .dataframe tbody tr th:only-of-type {\n",
       "        vertical-align: middle;\n",
       "    }\n",
       "\n",
       "    .dataframe tbody tr th {\n",
       "        vertical-align: top;\n",
       "    }\n",
       "\n",
       "    .dataframe thead th {\n",
       "        text-align: right;\n",
       "    }\n",
       "</style>\n",
       "<table border=\"1\" class=\"dataframe\">\n",
       "  <thead>\n",
       "    <tr style=\"text-align: right;\">\n",
       "      <th></th>\n",
       "      <th>Instrument</th>\n",
       "      <th>CF_BID</th>\n",
       "      <th>CF_ASK</th>\n",
       "      <th>OPEN_PRC</th>\n",
       "      <th>CF_HIGH</th>\n",
       "      <th>CF_LOW</th>\n",
       "      <th>CF_CLOSE</th>\n",
       "    </tr>\n",
       "  </thead>\n",
       "  <tbody>\n",
       "    <tr>\n",
       "      <th>0</th>\n",
       "      <td>EUR=</td>\n",
       "      <td>1.1078</td>\n",
       "      <td>1.1080</td>\n",
       "      <td>1.1070</td>\n",
       "      <td>1.1082</td>\n",
       "      <td>1.1063</td>\n",
       "      <td>1.1070</td>\n",
       "    </tr>\n",
       "    <tr>\n",
       "      <th>1</th>\n",
       "      <td>GBP=</td>\n",
       "      <td>1.2939</td>\n",
       "      <td>1.2941</td>\n",
       "      <td>1.2952</td>\n",
       "      <td>1.2969</td>\n",
       "      <td>1.2927</td>\n",
       "      <td>1.2952</td>\n",
       "    </tr>\n",
       "    <tr>\n",
       "      <th>2</th>\n",
       "      <td>JPY=</td>\n",
       "      <td>108.6800</td>\n",
       "      <td>108.7100</td>\n",
       "      <td>108.6600</td>\n",
       "      <td>108.8400</td>\n",
       "      <td>108.4700</td>\n",
       "      <td>108.6600</td>\n",
       "    </tr>\n",
       "    <tr>\n",
       "      <th>3</th>\n",
       "      <td>CAD=</td>\n",
       "      <td>1.3207</td>\n",
       "      <td>1.3208</td>\n",
       "      <td>1.3203</td>\n",
       "      <td>1.3216</td>\n",
       "      <td>1.3195</td>\n",
       "      <td>1.3206</td>\n",
       "    </tr>\n",
       "  </tbody>\n",
       "</table>\n",
       "</div>"
      ],
      "text/plain": [
       "  Instrument    CF_BID    CF_ASK  OPEN_PRC   CF_HIGH    CF_LOW  CF_CLOSE\n",
       "0       EUR=    1.1078    1.1080    1.1070    1.1082    1.1063    1.1070\n",
       "1       GBP=    1.2939    1.2941    1.2952    1.2969    1.2927    1.2952\n",
       "2       JPY=  108.6800  108.7100  108.6600  108.8400  108.4700  108.6600\n",
       "3       CAD=    1.3207    1.3208    1.3203    1.3216    1.3195    1.3206"
      ]
     },
     "metadata": {},
     "output_type": "display_data"
    },
    {
     "data": {
      "text/plain": [
       "<StreamState.Open: 3>"
      ]
     },
     "execution_count": 20,
     "metadata": {},
     "output_type": "execute_result"
    },
    {
     "name": "stdout",
     "output_type": "stream",
     "text": [
      "13:08:43.252458 - Update received for CAD= : {'CF_BID': 1.3207, 'CF_ASK': 1.3208}\n",
      "13:08:45.007633 - Update received for GBP= : {'CF_BID': 1.2939, 'CF_ASK': 1.2941}\n",
      "13:08:45.107643 - Update received for JPY= : {'CF_BID': 108.69, 'CF_ASK': 108.7}\n",
      "13:08:45.478680 - Update received for EUR= : {'CF_BID': 1.1077, 'CF_ASK': 1.1081}\n"
     ]
    }
   ],
   "source": [
    "streaming_prices.open()"
   ]
  },
  {
   "cell_type": "markdown",
   "metadata": {},
   "source": [
    "## Close StreamingPrices when done"
   ]
  },
  {
   "cell_type": "code",
   "execution_count": 21,
   "metadata": {},
   "outputs": [
    {
     "data": {
      "text/plain": [
       "<StreamState.Closed: 1>"
      ]
     },
     "execution_count": 21,
     "metadata": {},
     "output_type": "execute_result"
    }
   ],
   "source": [
    "streaming_prices.close()"
   ]
  },
  {
   "cell_type": "code",
   "execution_count": null,
   "metadata": {},
   "outputs": [],
   "source": []
  }
 ],
 "metadata": {
  "kernelspec": {
   "display_name": "Python 3",
   "language": "python",
   "name": "python3"
  },
  "language_info": {
   "codemirror_mode": {
    "name": "ipython",
    "version": 3
   },
   "file_extension": ".py",
   "mimetype": "text/x-python",
   "name": "python",
   "nbconvert_exporter": "python",
   "pygments_lexer": "ipython3",
   "version": "3.7.0"
  }
 },
 "nbformat": 4,
 "nbformat_minor": 2
}
