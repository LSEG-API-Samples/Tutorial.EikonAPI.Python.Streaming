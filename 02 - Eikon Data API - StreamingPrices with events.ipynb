{
 "cells": [
  {
   "cell_type": "markdown",
   "metadata": {},
   "source": [
    "# Eikon Data API - How to use StreamingPrices with events\n",
    "\n",
    "The following example demonstrates how to retrieve level 1 streaming data (such as trades and quotes) from Eikon or the Refinitiv Workspace. The example will show how to define a StreamingPrices object with registered event handlers so that your application is notified when new data is coming in.\n",
    "\n",
    "Using StreamingPrices that way allows your application to be updated in real-time when data changes on the market. With this event-driven mode, your application can still benefit from the StreamingPrices data cache and use the get_snapshot function to pull out real-time snapshots as Pandas DataFrames."
   ]
  },
  {
   "cell_type": "markdown",
   "metadata": {},
   "source": [
    "## About events"
   ]
  },
  {
   "cell_type": "markdown",
   "metadata": {},
   "source": [
    "\n",
    "Using a StreamingPrices object with events requires you to define event handlers that are called by a background execution thread when new events are received for the instruments you requested. There are 4 different types of event handlers you can optionnaly define depending on the type to events your are interrested in.  \n",
    "\n",
    "### The 4 event types and their related event handlers:\n",
    " - **Refresh events:** Refresh events happen when all fields of one the requested instruments are received. This complete list of fields is sometimes called the 'image' of the instrument. This image that comes with Refresh messages can be later updated by subsequent Update events. When several Refresh events are received for the same instrument, the fields transported by the latest Refresh are considered as the new image. Fields received in previous Refresh events or Update events must be discarded. StreamingPrices objects automatically manage this logic for their internal cache, meaning that when you call get_snapshot you always get the latest and relevant field values for the requested instruments. \n",
    " \n",
    " Refresh event handlers take 3 parameters: \n",
    "  - The StreamingPrices object that received the event\n",
    "  - The name of the concerned instrument\n",
    "  - The fields and values of the Image\n",
    " \n",
    " \n",
    " - **Update events:** Update events are received when fields of a requested instrument change. Update events only contain the fields and values that changed. When the application receives an Update it must update its internal representation of the instrument (if any) accordingly. StreamingPrices objects automatically manage this logic for their internal cache, meaning that when you call get_snapshot you always get the latest values of the requested instruments. \n",
    " \n",
    " Update event handlers take 3 parameters \n",
    "  - The StreamingPrices object that received the event\n",
    "  - The name of the concerned instrument\n",
    "  - The updated fields with their new values\n",
    " \n",
    " \n",
    " - **Status events:** Status events are received when the status of one of the requested instruments changes.\n",
    " \n",
    " Status event handlers take 3 parameters \n",
    "  - The StreamingPrices object that received the event\n",
    "  - The name of the concerned instrument\n",
    "  - The new status of the instrument\n",
    " \n",
    " \n",
    " - **Complete events:** A Complete event is received once all the requested instruments received either a Refresh or a Status event. The Complete event indicates that the StreamingPrices object is complete and that it's internal cache contains the full data set (instruments and fields) that were requested.     \n",
    "\n",
    " Complete event handlers take one parameter\n",
    "  - The StreamingPrices object that is complete\n",
    " \n",
    "**Side note:** As Refresh events and Update events use handlers with the same signature, the same handler can be used for these 2 event types if you do not need to distinguish them \n",
    " \n",
    "### Typical events flow\n",
    "\n",
    "As an example, if you use a StreamingPrices object with event for the following instruments and fields: \n",
    " - Instruments: 'CAD=','GBP=', 'JPY=', 'JUNK'\n",
    " - Fields: 'CF_BID','CF_ASK','OPEN_PRC', 'CF_HIGH','CF_LOW', 'CF_CLOSE'\n",
    "\n",
    "You may receive a flow of events like this one:\n",
    " 1. **Refresh** event for GBP=\n",
    " 1. **Refresh** event for CAD=\n",
    " 1. **Status** event for JUNK\n",
    " 1. **Refresh** event for JPY=\n",
    " 1. **Complete** event => Indicating that data (or status) has been received for all requested instruments\n",
    " 1. **Update** event for JPY=\n",
    " 1. **Update** event for CAD=\n",
    " 1. **Refresh** event for CAD=\n",
    " 1. **Update** event for GBP=\n",
    " 1. **Update** event for CAD=\n",
    " 1. **Update** event for JPY=\n",
    " 1. ...\n",
    "\n",
    "  \n"
   ]
  },
  {
   "cell_type": "markdown",
   "metadata": {},
   "source": [
    "## Imports\n",
    "\n",
    "Imports the 'eikon' library and other usefull libraries needed by this notebook"
   ]
  },
  {
   "cell_type": "code",
   "execution_count": 1,
   "metadata": {},
   "outputs": [],
   "source": [
    "import eikon as ek\n",
    "import datetime"
   ]
  },
  {
   "cell_type": "markdown",
   "metadata": {},
   "source": [
    "## Set App Key\n",
    "Set the AppKey of this application and connect to Eikon."
   ]
  },
  {
   "cell_type": "code",
   "execution_count": 2,
   "metadata": {},
   "outputs": [],
   "source": [
    "ek.set_app_key('YOUR_APP_KEY')"
   ]
  },
  {
   "cell_type": "markdown",
   "metadata": {},
   "source": [
    "## Define callbacks to capture incoming events"
   ]
  },
  {
   "cell_type": "markdown",
   "metadata": {},
   "source": [
    "The following function will be used to capture Refresh events. It displays the name of the refreshed instrument and its full image (complete list of requested fields)."
   ]
  },
  {
   "cell_type": "code",
   "execution_count": 3,
   "metadata": {},
   "outputs": [],
   "source": [
    "def display_refreshed_fields(streaming_price, instrument_name, fields):\n",
    "    current_time = datetime.datetime.now().time()\n",
    "    print(current_time, \"- Refresh received for\", instrument_name, \":\", fields)    "
   ]
  },
  {
   "cell_type": "markdown",
   "metadata": {},
   "source": [
    "The following function will be used to capture Update events. It displays the name of the updated instrument and the updated fields."
   ]
  },
  {
   "cell_type": "code",
   "execution_count": 4,
   "metadata": {},
   "outputs": [],
   "source": [
    "def display_updated_fields(streaming_price, instrument_name, fields):\n",
    "    current_time = datetime.datetime.now().time()\n",
    "    print(current_time, \"- Update received for\", instrument_name, \":\", fields)    "
   ]
  },
  {
   "cell_type": "markdown",
   "metadata": {},
   "source": [
    "The following function will be used to capture Status events. It displays the name of the instrument and the received status."
   ]
  },
  {
   "cell_type": "code",
   "execution_count": 5,
   "metadata": {},
   "outputs": [],
   "source": [
    "def display_status(streaming_price, instrument_name, status):\n",
    "    current_time = datetime.datetime.now().time()\n",
    "    print(current_time, \"- Status received for\", instrument_name, \":\", status)    "
   ]
  },
  {
   "cell_type": "markdown",
   "metadata": {},
   "source": [
    "The following function will be used to capture Complete events. It calls get_snapshot to pull out the memory cache of the StreamingPrice as a Pandas DataFrame and displays it. As a result, the latest values of all requested fields and instruments are displayed in a table. "
   ]
  },
  {
   "cell_type": "code",
   "execution_count": 6,
   "metadata": {},
   "outputs": [],
   "source": [
    "def display_complete_snapshot(streaming_prices):\n",
    "    current_time = datetime.datetime.now().time()\n",
    "    print(current_time, \"- StreamingPrice is complete. Full snapshot:\")\n",
    "    display(streaming_prices.get_snapshot())"
   ]
  },
  {
   "cell_type": "markdown",
   "metadata": {},
   "source": [
    "## Create StreamingPrices and register event callbacks"
   ]
  },
  {
   "cell_type": "code",
   "execution_count": 7,
   "metadata": {},
   "outputs": [],
   "source": [
    "streaming_prices = ek.StreamingPrices(\n",
    "    instruments = ['EUR=','GBP=','JPY=', 'CAD='], \n",
    "    fields   = ['SALTIM', 'CF_BID','CF_ASK','OPEN_PRC', 'CF_HIGH','CF_LOW', 'CF_CLOSE'],\n",
    "    on_refresh = lambda streaming_price, instrument_name, fields : \n",
    "        display_refreshed_fields(streaming_price, instrument_name, fields),\n",
    "    on_update = lambda streaming_price, instrument_name, fields : \n",
    "        display_updated_fields(streaming_price, instrument_name, fields),\n",
    "    on_status = lambda streaming_price, instrument_name, status : \n",
    "        display_status(streaming_price, instrument_name, status),\n",
    "    on_complete = lambda streaming_price : \n",
    "        display_complete_snapshot(streaming_price)\n",
    ")"
   ]
  },
  {
   "cell_type": "markdown",
   "metadata": {},
   "source": [
    "## Open StreamingPrices and wait for events"
   ]
  },
  {
   "cell_type": "code",
   "execution_count": 8,
   "metadata": {},
   "outputs": [
    {
     "name": "stdout",
     "output_type": "stream",
     "text": [
      "12:52:59.198710 - Status received for GBP= : {'status': <StreamState.Open: 3>, 'code': 'Open', 'message': 'All is well'}\n",
      "12:52:59.199709 - Refresh received for GBP= : {'CF_BID': 1.2903, 'CF_ASK': 1.2907, 'OPEN_PRC': 1.2922, 'CF_HIGH': 1.2931, 'CF_LOW': 1.2889, 'CF_CLOSE': 1.2922}\n",
      "12:52:59.199709 - Status received for CAD= : {'status': <StreamState.Open: 3>, 'code': 'Open', 'message': 'All is well'}\n",
      "12:52:59.199709 - Refresh received for CAD= : {'CF_BID': 1.3303, 'CF_ASK': 1.3307, 'OPEN_PRC': 1.3266, 'CF_HIGH': 1.3315, 'CF_LOW': 1.3262, 'CF_CLOSE': 1.3266}\n",
      "12:52:59.199709 - Status received for JPY= : {'status': <StreamState.Open: 3>, 'code': 'Open', 'message': 'All is well'}\n",
      "12:52:59.199709 - Refresh received for JPY= : {'CF_BID': 108.42, 'CF_ASK': 108.44, 'OPEN_PRC': 108.53, 'CF_HIGH': 108.57, 'CF_LOW': 108.36, 'CF_CLOSE': 108.53}\n",
      "12:52:59.199709 - Status received for EUR= : {'status': <StreamState.Open: 3>, 'code': 'Open', 'message': 'All is well'}\n",
      "12:52:59.199709 - Refresh received for EUR= : {'CF_BID': 1.1059, 'CF_ASK': 1.106, 'OPEN_PRC': 1.1077, 'CF_HIGH': 1.1081, 'CF_LOW': 1.1057, 'CF_CLOSE': 1.1078}\n",
      "12:52:59.199709 - StreamingPrice is complete. Full snapshot:\n"
     ]
    },
    {
     "data": {
      "text/html": [
       "<div>\n",
       "<style scoped>\n",
       "    .dataframe tbody tr th:only-of-type {\n",
       "        vertical-align: middle;\n",
       "    }\n",
       "\n",
       "    .dataframe tbody tr th {\n",
       "        vertical-align: top;\n",
       "    }\n",
       "\n",
       "    .dataframe thead th {\n",
       "        text-align: right;\n",
       "    }\n",
       "</style>\n",
       "<table border=\"1\" class=\"dataframe\">\n",
       "  <thead>\n",
       "    <tr style=\"text-align: right;\">\n",
       "      <th></th>\n",
       "      <th>Instrument</th>\n",
       "      <th>CF_BID</th>\n",
       "      <th>CF_ASK</th>\n",
       "      <th>OPEN_PRC</th>\n",
       "      <th>CF_HIGH</th>\n",
       "      <th>CF_LOW</th>\n",
       "      <th>CF_CLOSE</th>\n",
       "    </tr>\n",
       "  </thead>\n",
       "  <tbody>\n",
       "    <tr>\n",
       "      <th>0</th>\n",
       "      <td>EUR=</td>\n",
       "      <td>1.1059</td>\n",
       "      <td>1.1060</td>\n",
       "      <td>1.1077</td>\n",
       "      <td>1.1081</td>\n",
       "      <td>1.1057</td>\n",
       "      <td>1.1078</td>\n",
       "    </tr>\n",
       "    <tr>\n",
       "      <th>1</th>\n",
       "      <td>GBP=</td>\n",
       "      <td>1.2903</td>\n",
       "      <td>1.2907</td>\n",
       "      <td>1.2922</td>\n",
       "      <td>1.2931</td>\n",
       "      <td>1.2889</td>\n",
       "      <td>1.2922</td>\n",
       "    </tr>\n",
       "    <tr>\n",
       "      <th>2</th>\n",
       "      <td>JPY=</td>\n",
       "      <td>108.4200</td>\n",
       "      <td>108.4400</td>\n",
       "      <td>108.5300</td>\n",
       "      <td>108.5700</td>\n",
       "      <td>108.3600</td>\n",
       "      <td>108.5300</td>\n",
       "    </tr>\n",
       "    <tr>\n",
       "      <th>3</th>\n",
       "      <td>CAD=</td>\n",
       "      <td>1.3303</td>\n",
       "      <td>1.3307</td>\n",
       "      <td>1.3266</td>\n",
       "      <td>1.3315</td>\n",
       "      <td>1.3262</td>\n",
       "      <td>1.3266</td>\n",
       "    </tr>\n",
       "  </tbody>\n",
       "</table>\n",
       "</div>"
      ],
      "text/plain": [
       "  Instrument    CF_BID    CF_ASK  OPEN_PRC   CF_HIGH    CF_LOW  CF_CLOSE\n",
       "0       EUR=    1.1059    1.1060    1.1077    1.1081    1.1057    1.1078\n",
       "1       GBP=    1.2903    1.2907    1.2922    1.2931    1.2889    1.2922\n",
       "2       JPY=  108.4200  108.4400  108.5300  108.5700  108.3600  108.5300\n",
       "3       CAD=    1.3303    1.3307    1.3266    1.3315    1.3262    1.3266"
      ]
     },
     "metadata": {},
     "output_type": "display_data"
    },
    {
     "data": {
      "text/plain": [
       "<StreamState.Open: 3>"
      ]
     },
     "execution_count": 8,
     "metadata": {},
     "output_type": "execute_result"
    },
    {
     "name": "stdout",
     "output_type": "stream",
     "text": [
      "12:52:59.791650 - Update received for GBP= : {'CF_BID': 1.2903, 'CF_ASK': 1.2907}\n",
      "12:53:01.108519 - Update received for JPY= : {'CF_BID': 108.42, 'CF_ASK': 108.45}\n",
      "12:53:01.428487 - Update received for CAD= : {'CF_BID': 1.3303, 'CF_ASK': 1.3307}\n",
      "12:53:01.794450 - Update received for EUR= : {'CF_BID': 1.1058, 'CF_ASK': 1.106}\n",
      "12:53:02.751354 - Update received for GBP= : {'CF_BID': 1.2903, 'CF_ASK': 1.2907}\n",
      "12:53:03.643265 - Status received for EUR= : {'status': <StreamState.Open: 3>, 'code': 'Open', 'message': None}\n",
      "12:53:04.094220 - Update received for JPY= : {'CF_BID': 108.43, 'CF_ASK': 108.46}\n"
     ]
    }
   ],
   "source": [
    "streaming_prices.open()"
   ]
  },
  {
   "cell_type": "markdown",
   "metadata": {},
   "source": [
    "## Close StreamingPrices when done"
   ]
  },
  {
   "cell_type": "code",
   "execution_count": 9,
   "metadata": {},
   "outputs": [
    {
     "data": {
      "text/plain": [
       "<StreamState.Closed: 1>"
      ]
     },
     "execution_count": 9,
     "metadata": {},
     "output_type": "execute_result"
    }
   ],
   "source": [
    "streaming_prices.close()"
   ]
  },
  {
   "cell_type": "code",
   "execution_count": null,
   "metadata": {},
   "outputs": [],
   "source": []
  }
 ],
 "metadata": {
  "kernelspec": {
   "display_name": "Python 3",
   "language": "python",
   "name": "python3"
  },
  "language_info": {
   "codemirror_mode": {
    "name": "ipython",
    "version": 3
   },
   "file_extension": ".py",
   "mimetype": "text/x-python",
   "name": "python",
   "nbconvert_exporter": "python",
   "pygments_lexer": "ipython3",
   "version": "3.7.0"
  }
 },
 "nbformat": 4,
 "nbformat_minor": 2
}
