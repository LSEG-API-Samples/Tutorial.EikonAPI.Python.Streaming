{
 "cells": [
  {
   "cell_type": "markdown",
   "metadata": {},
   "source": [
    "# Eikon Data API - How to use StreamingPrices to cache real-time streaming data\n",
    "\n",
    "The following example demonstrates how to retrieve level 1 streaming data (such as trades and quotes) from Eikon or Refinitiv Workspace. The example will show how to define a StreamingPrices object, which automatically manages a streaming cache available for access at any time. Your application can then reach into this cache and pull out real-time snapshots as Pandas DataFrames by just calling a simple access method.\n",
    "\n",
    "Using a StreamingPrices object that way prevents your application from sending too many requests to Eikon or Refinitiv Workspace. This is particularly useful if your application needs to retrieve real-time snapshots at regular and short intervals."
   ]
  },
  {
   "cell_type": "markdown",
   "metadata": {},
   "source": [
    "## Imports\n",
    "\n",
    "Imports the 'eikon' library and the 'display' function for this example"
   ]
  },
  {
   "cell_type": "code",
   "execution_count": 13,
   "metadata": {},
   "outputs": [],
   "source": [
    "import eikon as ek"
   ]
  },
  {
   "cell_type": "markdown",
   "metadata": {},
   "source": [
    "## Set App Key\n",
    "Set the AppKey of this application and connect to Eikon or Refinitiv Workspace."
   ]
  },
  {
   "cell_type": "code",
   "execution_count": 15,
   "metadata": {},
   "outputs": [],
   "source": [
    "ek.set_app_key('YOUR_APP_KEY')"
   ]
  },
  {
   "cell_type": "markdown",
   "metadata": {},
   "source": [
    "## Create and open a StreamingPrices object\n",
    "\n",
    "The StreamingPrices object is created for a list of instruments and fields. The fields parameter is optionnal. If you omit it, StreamingPrices will retrieve all fields available for the requested instruments"
   ]
  },
  {
   "cell_type": "code",
   "execution_count": 16,
   "metadata": {},
   "outputs": [],
   "source": [
    "streaming_prices = ek.StreamingPrices(\n",
    "    instruments = ['GBP=','JPY=', 'CAD='], \n",
    "    fields   = ['CF_BID','CF_ASK','OPEN_PRC', 'CF_HIGH','CF_LOW', 'CF_CLOSE']\n",
    ")"
   ]
  },
  {
   "cell_type": "markdown",
   "metadata": {},
   "source": [
    "The open method tells the StreamingPrices object to subscribe to the streams of the requested instruments."
   ]
  },
  {
   "cell_type": "code",
   "execution_count": 17,
   "metadata": {},
   "outputs": [
    {
     "data": {
      "text/plain": [
       "<StreamState.Open: 3>"
      ]
     },
     "execution_count": 17,
     "metadata": {},
     "output_type": "execute_result"
    }
   ],
   "source": [
    "streaming_prices.open()"
   ]
  },
  {
   "cell_type": "markdown",
   "metadata": {},
   "source": [
    "As soon as the open method returns, the StreamingPrices object is ready to be used. Its internal cache is constantly kept updated with the latest streaming information received from Eikon / Refinitiv Workspace. All this happens behind the scene, waiting for your application to pull out data from the cache.  "
   ]
  },
  {
   "cell_type": "markdown",
   "metadata": {},
   "source": [
    "## Use get_snapshot to pull out data as a DataFrame\n",
    "Once the StreamingPrices object is opened, you can use the get_snapshot method to pull out data from its internal cache. get_snapshot returns a Pandas DataFrame that uses the same format as the eikon.get_data() function.\n",
    "\n",
    "get_snapshot can be called any number of times. As these calls return the latest values received from Eikon, several calls to get_snapshot on the same StreamingPrices object may return DataFrames containing different values. Values of the returned DataFrames do not change in real-time, get_snapshot must be called every time your application needs fresh real-time values. "
   ]
  },
  {
   "cell_type": "code",
   "execution_count": 18,
   "metadata": {},
   "outputs": [
    {
     "data": {
      "text/html": [
       "<div>\n",
       "<style scoped>\n",
       "    .dataframe tbody tr th:only-of-type {\n",
       "        vertical-align: middle;\n",
       "    }\n",
       "\n",
       "    .dataframe tbody tr th {\n",
       "        vertical-align: top;\n",
       "    }\n",
       "\n",
       "    .dataframe thead th {\n",
       "        text-align: right;\n",
       "    }\n",
       "</style>\n",
       "<table border=\"1\" class=\"dataframe\">\n",
       "  <thead>\n",
       "    <tr style=\"text-align: right;\">\n",
       "      <th></th>\n",
       "      <th>Instrument</th>\n",
       "      <th>CF_BID</th>\n",
       "      <th>CF_ASK</th>\n",
       "      <th>OPEN_PRC</th>\n",
       "      <th>CF_HIGH</th>\n",
       "      <th>CF_LOW</th>\n",
       "      <th>CF_CLOSE</th>\n",
       "    </tr>\n",
       "  </thead>\n",
       "  <tbody>\n",
       "    <tr>\n",
       "      <th>0</th>\n",
       "      <td>GBP=</td>\n",
       "      <td>1.2902</td>\n",
       "      <td>1.2906</td>\n",
       "      <td>1.2922</td>\n",
       "      <td>1.2931</td>\n",
       "      <td>1.2889</td>\n",
       "      <td>1.2922</td>\n",
       "    </tr>\n",
       "    <tr>\n",
       "      <th>1</th>\n",
       "      <td>JPY=</td>\n",
       "      <td>108.4500</td>\n",
       "      <td>108.4800</td>\n",
       "      <td>108.5300</td>\n",
       "      <td>108.5700</td>\n",
       "      <td>108.3600</td>\n",
       "      <td>108.5300</td>\n",
       "    </tr>\n",
       "    <tr>\n",
       "      <th>2</th>\n",
       "      <td>CAD=</td>\n",
       "      <td>1.3304</td>\n",
       "      <td>1.3306</td>\n",
       "      <td>1.3266</td>\n",
       "      <td>1.3315</td>\n",
       "      <td>1.3262</td>\n",
       "      <td>1.3266</td>\n",
       "    </tr>\n",
       "  </tbody>\n",
       "</table>\n",
       "</div>"
      ],
      "text/plain": [
       "  Instrument    CF_BID    CF_ASK  OPEN_PRC   CF_HIGH    CF_LOW  CF_CLOSE\n",
       "0       GBP=    1.2902    1.2906    1.2922    1.2931    1.2889    1.2922\n",
       "1       JPY=  108.4500  108.4800  108.5300  108.5700  108.3600  108.5300\n",
       "2       CAD=    1.3304    1.3306    1.3266    1.3315    1.3262    1.3266"
      ]
     },
     "metadata": {},
     "output_type": "display_data"
    }
   ],
   "source": [
    "df = streaming_prices.get_snapshot()\n",
    "display(df)"
   ]
  },
  {
   "cell_type": "markdown",
   "metadata": {},
   "source": [
    "## Get a snapshot for a subset of instruments and fields"
   ]
  },
  {
   "cell_type": "code",
   "execution_count": 19,
   "metadata": {},
   "outputs": [
    {
     "data": {
      "text/html": [
       "<div>\n",
       "<style scoped>\n",
       "    .dataframe tbody tr th:only-of-type {\n",
       "        vertical-align: middle;\n",
       "    }\n",
       "\n",
       "    .dataframe tbody tr th {\n",
       "        vertical-align: top;\n",
       "    }\n",
       "\n",
       "    .dataframe thead th {\n",
       "        text-align: right;\n",
       "    }\n",
       "</style>\n",
       "<table border=\"1\" class=\"dataframe\">\n",
       "  <thead>\n",
       "    <tr style=\"text-align: right;\">\n",
       "      <th></th>\n",
       "      <th>Instrument</th>\n",
       "      <th>CF_BID</th>\n",
       "      <th>CF_ASK</th>\n",
       "    </tr>\n",
       "  </thead>\n",
       "  <tbody>\n",
       "    <tr>\n",
       "      <th>0</th>\n",
       "      <td>JPY=</td>\n",
       "      <td>108.4500</td>\n",
       "      <td>108.4600</td>\n",
       "    </tr>\n",
       "    <tr>\n",
       "      <th>1</th>\n",
       "      <td>CAD=</td>\n",
       "      <td>1.3305</td>\n",
       "      <td>1.3306</td>\n",
       "    </tr>\n",
       "  </tbody>\n",
       "</table>\n",
       "</div>"
      ],
      "text/plain": [
       "  Instrument    CF_BID    CF_ASK\n",
       "0       JPY=  108.4500  108.4600\n",
       "1       CAD=    1.3305    1.3306"
      ]
     },
     "metadata": {},
     "output_type": "display_data"
    }
   ],
   "source": [
    "df = streaming_prices.get_snapshot(\n",
    "    instruments = ['JPY=', 'CAD='], \n",
    "    fields   = ['CF_BID','CF_ASK']\n",
    ")\n",
    "display(df)"
   ]
  },
  {
   "cell_type": "markdown",
   "metadata": {},
   "source": [
    "## Other options to get values from the streaming cache"
   ]
  },
  {
   "cell_type": "markdown",
   "metadata": {},
   "source": [
    "#### Direct access to real-time fields"
   ]
  },
  {
   "cell_type": "code",
   "execution_count": 20,
   "metadata": {},
   "outputs": [
    {
     "name": "stdout",
     "output_type": "stream",
     "text": [
      "CAD/BID: 1.3304\n",
      "JPY/BID: 108.44\n"
     ]
    }
   ],
   "source": [
    "print('CAD/BID:', streaming_prices['CAD=']['CF_BID'])\n",
    "print('JPY/BID:', streaming_prices['JPY=']['CF_BID'])"
   ]
  },
  {
   "cell_type": "markdown",
   "metadata": {},
   "source": [
    "#### Direct acces to a Streaming Price instrument"
   ]
  },
  {
   "cell_type": "code",
   "execution_count": 21,
   "metadata": {},
   "outputs": [
    {
     "name": "stdout",
     "output_type": "stream",
     "text": [
      "{'status': <StreamState.Open: 3>, 'code': 'Open', 'message': 'All is well'}\n",
      "1.3303\n"
     ]
    }
   ],
   "source": [
    "cad = streaming_prices['CAD=']\n",
    "print(cad.status)\n",
    "print(cad['CF_BID'])"
   ]
  },
  {
   "cell_type": "markdown",
   "metadata": {},
   "source": [
    "#### Iteration on fields"
   ]
  },
  {
   "cell_type": "code",
   "execution_count": 22,
   "metadata": {},
   "outputs": [
    {
     "name": "stdout",
     "output_type": "stream",
     "text": [
      "CAD=\n",
      "\tCF_BID:  1.3303\n",
      "\tCF_ASK:  1.3307\n",
      "\tOPEN_PRC:  1.3266\n",
      "\tCF_HIGH:  1.3315\n",
      "\tCF_LOW:  1.3262\n",
      "\tCF_CLOSE:  1.3266\n",
      "JPY=\n",
      "\tCF_BID:  108.44\n",
      "\tCF_ASK:  108.47\n",
      "\tOPEN_PRC:  108.53\n",
      "\tCF_HIGH:  108.57\n",
      "\tCF_LOW:  108.36\n",
      "\tCF_CLOSE:  108.53\n"
     ]
    }
   ],
   "source": [
    "print('CAD=')\n",
    "for field_name, field_value in streaming_prices['CAD=']:\n",
    "    print('\\t' + field_name + ': ', field_value)\n",
    "    \n",
    "print('JPY=')\n",
    "for field_name, field_value in streaming_prices['JPY=']:\n",
    "    print('\\t' + field_name + ': ', field_value)"
   ]
  },
  {
   "cell_type": "markdown",
   "metadata": {},
   "source": [
    "#### Iteration on StreamingPrice instruments and fields"
   ]
  },
  {
   "cell_type": "code",
   "execution_count": 23,
   "metadata": {},
   "outputs": [
    {
     "name": "stdout",
     "output_type": "stream",
     "text": [
      "GBP=\n",
      "\tCF_BID:  1.2901\n",
      "\tCF_ASK:  1.2907\n",
      "\tOPEN_PRC:  1.2922\n",
      "\tCF_HIGH:  1.2931\n",
      "\tCF_LOW:  1.2889\n",
      "\tCF_CLOSE:  1.2922\n",
      "JPY=\n",
      "\tCF_BID:  108.44\n",
      "\tCF_ASK:  108.47\n",
      "\tOPEN_PRC:  108.53\n",
      "\tCF_HIGH:  108.57\n",
      "\tCF_LOW:  108.36\n",
      "\tCF_CLOSE:  108.53\n",
      "CAD=\n",
      "\tCF_BID:  1.3304\n",
      "\tCF_ASK:  1.3308\n",
      "\tOPEN_PRC:  1.3266\n",
      "\tCF_HIGH:  1.3315\n",
      "\tCF_LOW:  1.3262\n",
      "\tCF_CLOSE:  1.3266\n"
     ]
    }
   ],
   "source": [
    "for streaming_price in streaming_prices:\n",
    "    print(streaming_price.name)\n",
    "    for field_name, field_value in streaming_price:\n",
    "        print('\\t' + field_name + ': ', field_value)"
   ]
  },
  {
   "cell_type": "markdown",
   "metadata": {},
   "source": [
    "### Close StreamingPrices"
   ]
  },
  {
   "cell_type": "code",
   "execution_count": 24,
   "metadata": {},
   "outputs": [
    {
     "data": {
      "text/plain": [
       "<StreamState.Closed: 1>"
      ]
     },
     "execution_count": 24,
     "metadata": {},
     "output_type": "execute_result"
    }
   ],
   "source": [
    "streaming_prices.close()"
   ]
  },
  {
   "cell_type": "markdown",
   "metadata": {},
   "source": [
    "Once closed is called the StreamingPrices object stops updating its internal cache. The get_snapshot function can still be called but after the close it always return the same values. "
   ]
  },
  {
   "cell_type": "code",
   "execution_count": null,
   "metadata": {},
   "outputs": [],
   "source": []
  }
 ],
 "metadata": {
  "kernelspec": {
   "display_name": "Python 3",
   "language": "python",
   "name": "python3"
  },
  "language_info": {
   "codemirror_mode": {
    "name": "ipython",
    "version": 3
   },
   "file_extension": ".py",
   "mimetype": "text/x-python",
   "name": "python",
   "nbconvert_exporter": "python",
   "pygments_lexer": "ipython3",
   "version": "3.7.0"
  }
 },
 "nbformat": 4,
 "nbformat_minor": 2
}
